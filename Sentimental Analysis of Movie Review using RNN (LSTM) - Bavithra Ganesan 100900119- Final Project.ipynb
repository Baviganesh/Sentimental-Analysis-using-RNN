{
 "cells": [
  {
   "cell_type": "markdown",
   "id": "8fb7129c",
   "metadata": {},
   "source": [
    "# Sentimental Analysis of Movie Reviews using RNN(LSTM)"
   ]
  },
  {
   "cell_type": "raw",
   "id": "d740a1b0",
   "metadata": {},
   "source": [
    "1.Problem Definition"
   ]
  },
  {
   "cell_type": "markdown",
   "id": "18e91b42",
   "metadata": {},
   "source": [
    "The purpose of this research is to use recurrent neural networks with long-short-term memory (LSTM) architecture to do sentiment analysis on IMDB movie reviews. Based on their textual content, the goal is to categorize movie reviews as either good or negative.The outcome of this project will be a model that can accurately classify movie reviews into positive or negative sentiments, which can be used to classify new movie reviews in the future."
   ]
  },
  {
   "cell_type": "raw",
   "id": "c05c489f",
   "metadata": {},
   "source": [
    "2.Data Collection"
   ]
  },
  {
   "cell_type": "markdown",
   "id": "586f3f73",
   "metadata": {},
   "source": [
    "The IMDB dataset is a widely used dataset for sentiment analysis, particularly for text classification tasks. It contains a collection of 50,000 movie reviews, which are labeled as positive or negative based on their sentiment.  Each set contains an equal number of positive and negative reviews. The reviews were collected from the IMDb website, a popular movie and TV show review site. The reviews are stored in text format and are relatively long, typically containing multiple sentences. The dataset contains a mix of reviews for different types of movies, including action, drama, comedy, and horror."
   ]
  },
  {
   "cell_type": "code",
   "execution_count": 1,
   "id": "c95a4a89",
   "metadata": {
    "scrolled": false
   },
   "outputs": [],
   "source": [
    "#Importing Dependencies\n",
    "\n",
    "import pandas as pd\n",
    "import numpy as np\n",
    "import re\n",
    "import nltk\n",
    "from nltk.corpus import stopwords\n",
    "from numpy import array\n",
    "\n",
    "from keras.preprocessing.text import one_hot, Tokenizer\n",
    "from tensorflow.keras.preprocessing.sequence import pad_sequences\n",
    "from keras.models import Sequential\n",
    "from keras.layers.core import Activation, Dropout, Dense\n",
    "from keras.layers import Flatten, GlobalMaxPooling1D, Embedding, Conv1D, LSTM\n",
    "from sklearn.model_selection import train_test_split"
   ]
  },
  {
   "cell_type": "raw",
   "id": "bc2ed5fb",
   "metadata": {},
   "source": [
    "Library Functions:\n",
    "pandas : A library used for data manipulation and analysis.\n",
    "numpy : A library used for mathematical operations and array manipulation.\n",
    "re: A library used for regular expressions, which are often used to preprocess text data.\n",
    "nltk: A library used for natural language processing tasks such as tokenization, stemming, and stopword removal.\n",
    "stopwords: A module within the nltk library that provides a list of common English stop words, which are frequently occurring words that are often removed during text preprocessing.\n",
    "One_hot: A function from the keras.preprocessing.text module that is used for text encoding.\n",
    "Tokenizer: A class from the keras.preprocessing.text module that is used for tokenizing text data.\n",
    "pad_sequences: A function from the tensorflow.keras.preprocessing.sequence module that is used for padding sequences of variable length.\n",
    "Sequential: A class from the keras.models module that is used for building sequential models in Keras.\n",
    "Activation, Dropout, Dense, Flatten, GlobalMaxPooling1D, Embedding, Conv1D, and LSTM: Classes from the keras.layers module that are used for defining layers in a neural network."
   ]
  },
  {
   "cell_type": "code",
   "execution_count": 2,
   "id": "9b7b7722",
   "metadata": {},
   "outputs": [],
   "source": [
    "# Importing IMDb Movie Reviews dataset\n",
    "\n",
    "mv_reviews = pd.read_csv(\"IMDB_Dataset.csv\")\n",
    "\n"
   ]
  },
  {
   "cell_type": "code",
   "execution_count": 3,
   "id": "544e0ea2",
   "metadata": {},
   "outputs": [
    {
     "data": {
      "text/plain": [
       "(50000, 2)"
      ]
     },
     "execution_count": 3,
     "metadata": {},
     "output_type": "execute_result"
    }
   ],
   "source": [
    "# Dataset exploration\n",
    "\n",
    "mv_reviews.shape"
   ]
  },
  {
   "cell_type": "code",
   "execution_count": 4,
   "id": "6ca3ba8b",
   "metadata": {},
   "outputs": [
    {
     "data": {
      "text/html": [
       "<div>\n",
       "<style scoped>\n",
       "    .dataframe tbody tr th:only-of-type {\n",
       "        vertical-align: middle;\n",
       "    }\n",
       "\n",
       "    .dataframe tbody tr th {\n",
       "        vertical-align: top;\n",
       "    }\n",
       "\n",
       "    .dataframe thead th {\n",
       "        text-align: right;\n",
       "    }\n",
       "</style>\n",
       "<table border=\"1\" class=\"dataframe\">\n",
       "  <thead>\n",
       "    <tr style=\"text-align: right;\">\n",
       "      <th></th>\n",
       "      <th>review</th>\n",
       "      <th>sentiment</th>\n",
       "    </tr>\n",
       "  </thead>\n",
       "  <tbody>\n",
       "    <tr>\n",
       "      <th>0</th>\n",
       "      <td>One of the other reviewers has mentioned that ...</td>\n",
       "      <td>positive</td>\n",
       "    </tr>\n",
       "    <tr>\n",
       "      <th>1</th>\n",
       "      <td>A wonderful little production. &lt;br /&gt;&lt;br /&gt;The...</td>\n",
       "      <td>positive</td>\n",
       "    </tr>\n",
       "    <tr>\n",
       "      <th>2</th>\n",
       "      <td>I thought this was a wonderful way to spend ti...</td>\n",
       "      <td>positive</td>\n",
       "    </tr>\n",
       "    <tr>\n",
       "      <th>3</th>\n",
       "      <td>Basically there's a family where a little boy ...</td>\n",
       "      <td>negative</td>\n",
       "    </tr>\n",
       "    <tr>\n",
       "      <th>4</th>\n",
       "      <td>Petter Mattei's \"Love in the Time of Money\" is...</td>\n",
       "      <td>positive</td>\n",
       "    </tr>\n",
       "  </tbody>\n",
       "</table>\n",
       "</div>"
      ],
      "text/plain": [
       "                                              review sentiment\n",
       "0  One of the other reviewers has mentioned that ...  positive\n",
       "1  A wonderful little production. <br /><br />The...  positive\n",
       "2  I thought this was a wonderful way to spend ti...  positive\n",
       "3  Basically there's a family where a little boy ...  negative\n",
       "4  Petter Mattei's \"Love in the Time of Money\" is...  positive"
      ]
     },
     "execution_count": 4,
     "metadata": {},
     "output_type": "execute_result"
    }
   ],
   "source": [
    "mv_reviews.head(5)"
   ]
  },
  {
   "cell_type": "code",
   "execution_count": 5,
   "id": "8352f24b",
   "metadata": {},
   "outputs": [
    {
     "data": {
      "text/plain": [
       "False"
      ]
     },
     "execution_count": 5,
     "metadata": {},
     "output_type": "execute_result"
    }
   ],
   "source": [
    "# Checking for missing values\n",
    "\n",
    "mv_reviews.isnull().values.any()"
   ]
  },
  {
   "cell_type": "code",
   "execution_count": 6,
   "id": "6b156f1d",
   "metadata": {},
   "outputs": [
    {
     "data": {
      "text/plain": [
       "<AxesSubplot:xlabel='sentiment', ylabel='count'>"
      ]
     },
     "execution_count": 6,
     "metadata": {},
     "output_type": "execute_result"
    },
    {
     "data": {
      "image/png": "[encoded data removed]",
      "text/plain": [
       "<Figure size 640x480 with 1 Axes>"
      ]
     },
     "metadata": {},
     "output_type": "display_data"
    }
   ],
   "source": [
    "#Let's observe distribution of positive / negative sentiments in dataset\n",
    "\n",
    "import seaborn as sns\n",
    "sns.countplot(x='sentiment', data=mv_reviews)"
   ]
  },
  {
   "cell_type": "markdown",
   "id": "c29fa2ba",
   "metadata": {},
   "source": [
    "From the above graph ,we can observe that dataset contains equal number of values for both categories of review."
   ]
  },
  {
   "cell_type": "code",
   "execution_count": 7,
   "id": "9fbbf535",
   "metadata": {},
   "outputs": [
    {
     "data": {
      "text/plain": [
       "'A wonderful little production. <br /><br />The filming technique is very unassuming- very old-time-BBC fashion and gives a comforting, and sometimes discomforting, sense of realism to the entire piece. <br /><br />The actors are extremely well chosen- Michael Sheen not only \"has got all the polari\" but he has all the voices down pat too! You can truly see the seamless editing guided by the references to Williams\\' diary entries, not only is it well worth the watching but it is a terrificly written and performed piece. A masterful production about one of the great master\\'s of comedy and his life. <br /><br />The realism really comes home with the little things: the fantasy of the guard which, rather than use the traditional \\'dream\\' techniques remains solid then disappears. It plays on our knowledge and our senses, particularly with the scenes concerning Orton and Halliwell and the sets (particularly of their flat with Halliwell\\'s murals decorating every surface) are terribly well done.'"
      ]
     },
     "execution_count": 7,
     "metadata": {},
     "output_type": "execute_result"
    }
   ],
   "source": [
    "mv_reviews[\"review\"][1]"
   ]
  },
  {
   "cell_type": "markdown",
   "id": "174e6e3f",
   "metadata": {},
   "source": [
    "We can see that our text contains punctuations, brackets, HTML tags and numbers. We need to preprocess this text for the analysis."
   ]
  },
  {
   "cell_type": "code",
   "execution_count": 8,
   "id": "be3c6957",
   "metadata": {},
   "outputs": [],
   "source": [
    "TAG_RE = re.compile(r'<[^>]+>')\n",
    "\n",
    "def remove_tags(text):\n",
    "    '''Removes HTML tags: replaces anything between opening and closing <> with empty space'''\n",
    "\n",
    "    return TAG_RE.sub('', text)"
   ]
  },
  {
   "cell_type": "code",
   "execution_count": 9,
   "id": "24953747",
   "metadata": {},
   "outputs": [
    {
     "name": "stderr",
     "output_type": "stream",
     "text": [
      "[nltk_data] Downloading package stopwords to\n",
      "[nltk_data]     C:\\Users\\bavig\\AppData\\Roaming\\nltk_data...\n",
      "[nltk_data]   Package stopwords is already up-to-date!\n"
     ]
    },
    {
     "data": {
      "text/plain": [
       "True"
      ]
     },
     "execution_count": 9,
     "metadata": {},
     "output_type": "execute_result"
    }
   ],
   "source": [
    "import nltk\n",
    "nltk.download('stopwords')"
   ]
  },
  {
   "cell_type": "code",
   "execution_count": 10,
   "id": "3dae34a1",
   "metadata": {},
   "outputs": [],
   "source": [
    "def preprocess_text(sen):\n",
    "    '''Cleans text data up, leaving only 2 or more char long non-stepwords composed of A-Z & a-z only\n",
    "    in lowercase'''\n",
    "    \n",
    "    sentence = sen.lower()\n",
    "\n",
    "    # Remove html tags\n",
    "    sentence = remove_tags(sentence)\n",
    "\n",
    "    # Remove punctuations and numbers\n",
    "    sentence = re.sub('[^a-zA-Z]', ' ', sentence)\n",
    "\n",
    "    # Single character removal\n",
    "    sentence = re.sub(r\"\\s+[a-zA-Z]\\s+\", ' ', sentence) # When we remove apostrophe from the word \"Mark's\", the apostrophe is replaced by an empty space. Hence, we are left with single character \"s\" that we are removing here.\n",
    "\n",
    "    # Remove multiple spaces\n",
    "    sentence = re.sub(r'\\s+', ' ', sentence)  # Next, we remove all the single characters and replace it by a space which creates multiple spaces in our text. Finally, we remove the multiple spaces from our text as well.\n",
    "\n",
    "    # Remove Stopwords\n",
    "    pattern = re.compile(r'\\b(' + r'|'.join(stopwords.words('english')) + r')\\b\\s*')\n",
    "    sentence = pattern.sub('', sentence)\n",
    "\n",
    "    return sentence"
   ]
  },
  {
   "cell_type": "code",
   "execution_count": 11,
   "id": "d34afd89",
   "metadata": {},
   "outputs": [],
   "source": [
    "#Initializing preprocessing_text function on mv_reviews\n",
    "\n",
    "X = []\n",
    "sentences = list(mv_reviews['review'])\n",
    "for sen in sentences:\n",
    "    X.append(preprocess_text(sen))"
   ]
  },
  {
   "cell_type": "code",
   "execution_count": 12,
   "id": "3c198f2f",
   "metadata": {},
   "outputs": [
    {
     "data": {
      "text/plain": [
       "'probably time favorite movie story selflessness sacrifice dedication noble cause preachy boring never gets old despite seen times last years paul lukas performance brings tears eyes bette davis one truly sympathetic roles delight kids grandma says like dressed midgets children makes fun watch mother slow awakening happening world roof believable startling dozen thumbs movie '"
      ]
     },
     "execution_count": 12,
     "metadata": {},
     "output_type": "execute_result"
    }
   ],
   "source": [
    "# Looking for Sample cleaned up movie review \n",
    "\n",
    "X[5]\n",
    "\n",
    "# As we shall use Word Embeddings, stemming/lemmatization is not performed as a preprocessing step here"
   ]
  },
  {
   "cell_type": "code",
   "execution_count": 13,
   "id": "58df330a",
   "metadata": {},
   "outputs": [],
   "source": [
    "# Converting sentiment labels to 0 & 1\n",
    "\n",
    "y = mv_reviews['sentiment']\n",
    "\n",
    "y = np.array(list(map(lambda x: 1 if x==\"positive\" else 0, y)))"
   ]
  },
  {
   "cell_type": "raw",
   "id": "f4319056",
   "metadata": {},
   "source": [
    "3.Splitting the dataset for Training and Testing"
   ]
  },
  {
   "cell_type": "code",
   "execution_count": 14,
   "id": "8629b51d",
   "metadata": {},
   "outputs": [],
   "source": [
    "X_train, X_test, y_train, y_test = train_test_split(X, y, test_size=0.20, random_state=42)\n",
    "\n",
    "# The train set will be used to train our deep learning models \n",
    "# while test set will be used to evaluate how well our model performs "
   ]
  },
  {
   "cell_type": "raw",
   "id": "f4a01842",
   "metadata": {},
   "source": [
    "4.Preparation of Embedding Layer"
   ]
  },
  {
   "cell_type": "raw",
   "id": "32b9a435",
   "metadata": {},
   "source": [
    "Embedding layer converts our textual data into numeric form. It is then used as the first layer for the deep learning models in Keras.\n",
    "1.The purpose of an embedding layer in sentimental analysis is to transform the input text into a numerical format that can be understood by the deep learning model. The embedding layer maps each word in the input text to a vector in a high-dimensional space such that words with similar meanings are closer together in the vector space.\n",
    "2.The input to the embedding layer is a sequence of integers, where each integer represents the index of a word in the vocabulary. The embedding layer then uses a lookup table to map each integer to a vector of real numbers that represents the word in the high-dimensional vector space.\n",
    "3.This process of mapping words to vectors is learned during the training process of the deep learning model. The embedding layer is typically initialized with random values and then updated during training using backpropagation to minimize the error between the predicted output and the true output.By using word embeddings as input, the model can better capture the meaning of the text and improve its performance on sentiment analysis tasks\n",
    "4.Preparing the embedding layer after splitting the dataset helps to ensure the integrity of the test set and allows for a more accurate evaluation of the model's performance on new, unseen data.\n"
   ]
  },
  {
   "cell_type": "code",
   "execution_count": 15,
   "id": "aceef190",
   "metadata": {},
   "outputs": [],
   "source": [
    "word_tokenizer = Tokenizer()\n",
    "word_tokenizer.fit_on_texts(X_train)\n",
    "\n",
    "X_train = word_tokenizer.texts_to_sequences(X_train)\n",
    "X_test = word_tokenizer.texts_to_sequences(X_test)"
   ]
  },
  {
   "cell_type": "markdown",
   "id": "2c71ff83",
   "metadata": {},
   "source": [
    "Embedding layer expects the words to be in numeric form.Using Tokenizer function,fit_on_text() trains the tokenizer and   \n",
    "texts_to_sequences() converts sentences to their numeric form."
   ]
  },
  {
   "cell_type": "code",
   "execution_count": 16,
   "id": "6bbc0222",
   "metadata": {},
   "outputs": [
    {
     "data": {
      "text/plain": [
       "92394"
      ]
     },
     "execution_count": 16,
     "metadata": {},
     "output_type": "execute_result"
    }
   ],
   "source": [
    "# Adding 1 to store dimensions for words for which no pretrained word embeddings exist\n",
    "\n",
    "vocab_length = len(word_tokenizer.word_index) + 1\n",
    "\n",
    "vocab_length"
   ]
  },
  {
   "cell_type": "code",
   "execution_count": 17,
   "id": "c67165f9",
   "metadata": {},
   "outputs": [],
   "source": [
    "# Padding all reviews to fixed length 100\n",
    "\n",
    "maxlen = 100\n",
    "\n",
    "X_train = pad_sequences(X_train, padding='post', maxlen=maxlen)\n",
    "X_test = pad_sequences(X_test, padding='post', maxlen=maxlen)"
   ]
  },
  {
   "cell_type": "code",
   "execution_count": 18,
   "id": "9de6c17c",
   "metadata": {},
   "outputs": [],
   "source": [
    "# Load GloVe word embeddings and create an Embeddings Dictionary\n",
    "\n",
    "from numpy import asarray\n",
    "from numpy import zeros\n",
    "\n",
    "embeddings_dictionary = dict()\n",
    "glove_file = open('glove.txt', encoding=\"utf8\")\n",
    "\n",
    "for line in glove_file:\n",
    "    records = line.split()\n",
    "    word = records[0]\n",
    "    vector_dimensions = asarray(records[1:], dtype='float32')\n",
    "    embeddings_dictionary [word] = vector_dimensions\n",
    "glove_file.close()"
   ]
  },
  {
   "cell_type": "raw",
   "id": "a448f30e",
   "metadata": {},
   "source": [
    "The use of pre-trained GloVe embeddings in this case allows the model to leverage the semantic relationships between words learned from a much larger dataset than the movie review dataset. This helps the model to better understand the meaning of words and their relationships within the context of the reviews.\n",
    "\n",
    "In summary, GloVe word embeddings provide a more effective way to represent the meaning of words in natural language processing tasks such as sentiment analysis, and using pre-trained GloVe embeddings helps improve the performance of the model by leveraging the semantic relationships between words learned from a large corpus of text.\n",
    "\n",
    "GloVe embeddings are trained using a co-occurrence matrix that captures how often words co-occur with one another in a large corpus of text data. The co-occurrence matrix is then factorized using matrix factorization techniques to obtain low-dimensional word embeddings.The pre-trained GloVe embeddings are typically stored in a text file where each line represents a word and its corresponding vector of floating-point values. \n"
   ]
  },
  {
   "cell_type": "code",
   "execution_count": 19,
   "id": "d39be062",
   "metadata": {},
   "outputs": [],
   "source": [
    "# Creating Embedding Matrix consists of 100 columns inorder to have 100-dimensional GloVe word embeddings for all words in our corpus.\n",
    "\n",
    "embedding_matrix = zeros((vocab_length, 100))\n",
    "for word, index in word_tokenizer.word_index.items():\n",
    "    embedding_vector = embeddings_dictionary.get(word)\n",
    "    if embedding_vector is not None:\n",
    "        embedding_matrix[index] = embedding_vector"
   ]
  },
  {
   "cell_type": "raw",
   "id": "c13ef2be",
   "metadata": {},
   "source": [
    "The matrix is initialized with zeros and has dimensions (vocab_length, 100), where vocab_length is the number of unique words in the vocabulary, and 100 is the dimensionality of the GloVe word embeddings used in this case.\n",
    "For each word in the vocabulary, the code checks if the pre-trained GloVe word embedding for that word is available in the embeddings dictionary. If it is, then the corresponding embedding vector is assigned to the row of the embedding matrix corresponding to the index of the word in the vocabulary. If not, the row is left as all zeros.\n",
    "Thus, the resulting embedding matrix contains pre-trained GloVe word embeddings for words in the vocabulary, and zero vectors for words that were not present in the pre-trained embeddings. This matrix can be used to initialize the weights of an embedding layer in a neural network model for text classification, which can then be fine-tuned on the specific task and dataset at hand.\n"
   ]
  },
  {
   "cell_type": "code",
   "execution_count": 20,
   "id": "3b9ef54f",
   "metadata": {},
   "outputs": [
    {
     "data": {
      "text/plain": [
       "(92394, 100)"
      ]
     },
     "execution_count": 20,
     "metadata": {},
     "output_type": "execute_result"
    }
   ],
   "source": [
    "# Examining the shape of our dataset after creating embedding matrix\n",
    "embedding_matrix.shape"
   ]
  },
  {
   "cell_type": "raw",
   "id": "e2fcf3e0",
   "metadata": {},
   "source": [
    "5.Model Preparation"
   ]
  },
  {
   "cell_type": "markdown",
   "id": "711c8e2f",
   "metadata": {},
   "source": [
    "5.1 Simple Neural Network"
   ]
  },
  {
   "cell_type": "raw",
   "id": "cd89b489",
   "metadata": {},
   "source": [
    "Embedding layer: This layer takes the input sequence of integers (each representing a word in the sentence) and turns it into dense vectors of fixed size using pre-trained GloVe word embeddings. The layer is initialized with pre-trained word embeddings, and its weights are frozen to prevent updating during training. \n",
    "Flatten layer: This layer flattens the output from the embedding layer into a one-dimensional vector that can be fed into a dense layer. \n",
    "Dense layer: This is the output layer of the model, and it uses the sigmoid activation function to produce a binary output (positive or negative sentiment). \n"
   ]
  },
  {
   "cell_type": "code",
   "execution_count": 22,
   "id": "970f7558",
   "metadata": {},
   "outputs": [
    {
     "name": "stdout",
     "output_type": "stream",
     "text": [
      "Model: \"sequential_1\"\n",
      "_________________________________________________________________\n",
      " Layer (type)                Output Shape              Param #   \n",
      "=================================================================\n",
      " embedding_1 (Embedding)     (None, 100, 100)          9239400   \n",
      "                                                                 \n",
      " flatten_1 (Flatten)         (None, 10000)             0         \n",
      "                                                                 \n",
      " dense_2 (Dense)             (None, 64)                640064    \n",
      "                                                                 \n",
      " dense_3 (Dense)             (None, 1)                 65        \n",
      "                                                                 \n",
      "=================================================================\n",
      "Total params: 9,879,529\n",
      "Trainable params: 640,129\n",
      "Non-trainable params: 9,239,400\n",
      "_________________________________________________________________\n",
      "None\n",
      "Epoch 1/10\n",
      "250/250 [==============================] - 22s 82ms/step - loss: 0.8181 - acc: 0.7255 - val_loss: 0.6416 - val_acc: 0.7355\n",
      "Epoch 2/10\n",
      "250/250 [==============================] - 18s 72ms/step - loss: 0.6034 - acc: 0.7616 - val_loss: 0.6182 - val_acc: 0.7444\n",
      "Epoch 3/10\n",
      "250/250 [==============================] - 19s 77ms/step - loss: 0.5734 - acc: 0.7743 - val_loss: 0.5895 - val_acc: 0.7614\n",
      "Epoch 4/10\n",
      "250/250 [==============================] - 18s 73ms/step - loss: 0.5655 - acc: 0.7782 - val_loss: 0.5977 - val_acc: 0.7555\n",
      "Epoch 5/10\n",
      "250/250 [==============================] - 18s 72ms/step - loss: 0.5576 - acc: 0.7830 - val_loss: 0.5936 - val_acc: 0.7581\n"
     ]
    }
   ],
   "source": [
    "#Neural Network Architecture\n",
    "from keras import regularizers\n",
    "from keras.optimizers import Adam\n",
    "from keras.callbacks import EarlyStopping\n",
    "\n",
    "\n",
    "nn_model = Sequential()\n",
    "embedding_layer = Embedding(vocab_length, 100, weights=[embedding_matrix], input_length=maxlen , trainable=False)\n",
    "\n",
    "nn_model.add(embedding_layer)\n",
    "\n",
    "nn_model.add(Flatten())\n",
    "nn_model.add(Dense(64, activation='relu', kernel_regularizer=regularizers.l2(0.01)))\n",
    "nn_model.add(Dense(1, activation='sigmoid'))\n",
    "\n",
    "nn_model.compile(optimizer=Adam(lr=0.001), loss='binary_crossentropy', metrics=['acc'])\n",
    "\n",
    "\n",
    "print(nn_model.summary())\n",
    "\n",
    "nn_model_history = nn_model.fit(X_train, y_train, batch_size=128, epochs=10, verbose=1, validation_split=0.2, callbacks=[EarlyStopping(patience=2)])\n"
   ]
  },
  {
   "cell_type": "code",
   "execution_count": 23,
   "id": "9d716889",
   "metadata": {},
   "outputs": [
    {
     "name": "stdout",
     "output_type": "stream",
     "text": [
      "313/313 [==============================] - 32s 101ms/step - loss: 0.6052 - acc: 0.7531\n"
     ]
    }
   ],
   "source": [
    "# Predictions on the Test Set\n",
    "\n",
    "score = nn_model.evaluate(X_test, y_test, verbose=1)"
   ]
  },
  {
   "cell_type": "code",
   "execution_count": 24,
   "id": "5a9481a7",
   "metadata": {},
   "outputs": [
    {
     "name": "stdout",
     "output_type": "stream",
     "text": [
      "Test Score: 0.6052390336990356\n",
      "Test Accuracy: 0.7530999779701233\n"
     ]
    }
   ],
   "source": [
    "# Model Performance\n",
    "\n",
    "print(\"Test Score:\", score[0])\n",
    "print(\"Test Accuracy:\", score[1])"
   ]
  },
  {
   "cell_type": "code",
   "execution_count": 25,
   "id": "35191cef",
   "metadata": {},
   "outputs": [
    {
     "data": {
      "image/png": "[encoded data removed]",
      "text/plain": [
       "<Figure size 640x480 with 1 Axes>"
      ]
     },
     "metadata": {},
     "output_type": "display_data"
    },
    {
     "data": {
      "image/png": "[encoded data removed]",
      "text/plain": [
       "<Figure size 640x480 with 1 Axes>"
      ]
     },
     "metadata": {},
     "output_type": "display_data"
    }
   ],
   "source": [
    "# Model Performance Charts\n",
    "\n",
    "import matplotlib.pyplot as plt\n",
    "\n",
    "plt.plot(nn_model_history.history['acc'])\n",
    "plt.plot(nn_model_history.history['val_acc'])\n",
    "\n",
    "plt.title('model accuracy')\n",
    "plt.ylabel('accuracy')\n",
    "plt.xlabel('epoch')\n",
    "plt.legend(['train','test'], loc='upper left')\n",
    "plt.show()\n",
    "\n",
    "plt.plot(nn_model_history.history['loss'])\n",
    "plt.plot(nn_model_history.history['val_loss'])\n",
    "\n",
    "plt.title('model loss')\n",
    "plt.ylabel('loss')\n",
    "plt.xlabel('epoch')\n",
    "plt.legend(['train','test'], loc='upper left')\n",
    "plt.show()"
   ]
  },
  {
   "cell_type": "markdown",
   "id": "7d7078d8",
   "metadata": {},
   "source": [
    "5.2 Convolutional Neural Network"
   ]
  },
  {
   "cell_type": "raw",
   "id": "e34e2ca3",
   "metadata": {},
   "source": [
    "Layers in CNN :\n",
    "Sequential() - initializes a sequential neural network model.\n",
    "Embedding - initializes an embedding layer that will take as input sequences of integers (words represented as indices) and will map each index to a dense vector representation. The layer is initialized with pre-trained GloVe word embeddings.\n",
    "Conv1D - a 1D convolutional layer that will learn local features from the input sequences.\n",
    "GlobalMaxPooling1D - a pooling layer that will take the maximum value across the time dimension of the output of the previous layer. This layer will select the most salient features from the local features learned by the previous layer.\n",
    "Dense - a fully connected layer that will learn a linear combination of the features selected by the previous layer and will output a prediction. The activation function used in the output layer is sigmoid, as the goal is binary classification (positive or negative sentiment).\n"
   ]
  },
  {
   "cell_type": "code",
   "execution_count": 26,
   "id": "b6b5031a",
   "metadata": {},
   "outputs": [
    {
     "name": "stdout",
     "output_type": "stream",
     "text": [
      "Model: \"sequential_2\"\n",
      "_________________________________________________________________\n",
      " Layer (type)                Output Shape              Param #   \n",
      "=================================================================\n",
      " embedding_2 (Embedding)     (None, 100, 100)          9239400   \n",
      "                                                                 \n",
      " conv1d (Conv1D)             (None, 96, 128)           64128     \n",
      "                                                                 \n",
      " global_max_pooling1d (Globa  (None, 128)              0         \n",
      " lMaxPooling1D)                                                  \n",
      "                                                                 \n",
      " dense_4 (Dense)             (None, 1)                 129       \n",
      "                                                                 \n",
      "=================================================================\n",
      "Total params: 9,303,657\n",
      "Trainable params: 64,257\n",
      "Non-trainable params: 9,239,400\n",
      "_________________________________________________________________\n",
      "None\n",
      "Epoch 1/10\n",
      "250/250 [==============================] - 29s 113ms/step - loss: 0.8129 - acc: 0.7742 - val_loss: 0.5260 - val_acc: 0.8219\n",
      "Epoch 2/10\n",
      "250/250 [==============================] - 26s 106ms/step - loss: 0.4900 - acc: 0.8275 - val_loss: 0.4714 - val_acc: 0.8320\n",
      "Epoch 3/10\n",
      "250/250 [==============================] - 27s 107ms/step - loss: 0.4615 - acc: 0.8360 - val_loss: 0.4522 - val_acc: 0.8405\n",
      "Epoch 4/10\n",
      "250/250 [==============================] - 27s 108ms/step - loss: 0.4547 - acc: 0.8379 - val_loss: 0.4480 - val_acc: 0.8444\n",
      "Epoch 5/10\n",
      "250/250 [==============================] - 27s 108ms/step - loss: 0.4465 - acc: 0.8442 - val_loss: 0.4434 - val_acc: 0.8438\n",
      "Epoch 6/10\n",
      "250/250 [==============================] - 26s 105ms/step - loss: 0.4340 - acc: 0.8491 - val_loss: 0.4426 - val_acc: 0.8461\n",
      "Epoch 7/10\n",
      "250/250 [==============================] - 27s 108ms/step - loss: 0.4345 - acc: 0.8519 - val_loss: 0.4431 - val_acc: 0.8415\n",
      "Epoch 8/10\n",
      "250/250 [==============================] - 27s 109ms/step - loss: 0.4232 - acc: 0.8589 - val_loss: 0.4496 - val_acc: 0.8405\n"
     ]
    }
   ],
   "source": [
    "#Convolutional Neural Network architecture\n",
    "\n",
    "from keras import regularizers\n",
    "from keras.optimizers import Adam\n",
    "from keras.callbacks import EarlyStopping\n",
    "from keras.layers import Conv1D, GlobalMaxPooling1D\n",
    "\n",
    "cnn_model = Sequential()\n",
    "\n",
    "embedding_layer = Embedding(vocab_length, 100, weights=[embedding_matrix], input_length=maxlen, trainable=False)\n",
    "cnn_model.add(embedding_layer)\n",
    "\n",
    "cnn_model.add(Conv1D(128, 5, activation='relu', kernel_regularizer=regularizers.l2(0.01)))\n",
    "cnn_model.add(GlobalMaxPooling1D())\n",
    "cnn_model.add(Dense(1, activation='sigmoid'))\n",
    "\n",
    "cnn_model.compile(optimizer=Adam(lr=0.001), loss='binary_crossentropy', metrics=['acc'])\n",
    "\n",
    "print(cnn_model.summary())\n",
    "\n",
    "cnn_model_history = cnn_model.fit(X_train, y_train, batch_size=128, epochs=10, verbose=1, validation_split=0.2, callbacks=[EarlyStopping(patience=2)])\n"
   ]
  },
  {
   "cell_type": "code",
   "execution_count": 27,
   "id": "22ec58d3",
   "metadata": {},
   "outputs": [
    {
     "name": "stdout",
     "output_type": "stream",
     "text": [
      "313/313 [==============================] - 4s 12ms/step - loss: 0.4562 - acc: 0.8390\n"
     ]
    }
   ],
   "source": [
    "# Predictions on the Test Set\n",
    "\n",
    "score = cnn_model.evaluate(X_test, y_test, verbose=1)"
   ]
  },
  {
   "cell_type": "code",
   "execution_count": 28,
   "id": "178a5b84",
   "metadata": {},
   "outputs": [
    {
     "name": "stdout",
     "output_type": "stream",
     "text": [
      "Test Score: 0.4561852514743805\n",
      "Test Accuracy: 0.8389999866485596\n"
     ]
    }
   ],
   "source": [
    "# Model Performance\n",
    "\n",
    "print(\"Test Score:\", score[0])\n",
    "print(\"Test Accuracy:\", score[1])"
   ]
  },
  {
   "cell_type": "code",
   "execution_count": 29,
   "id": "ca33de91",
   "metadata": {},
   "outputs": [
    {
     "data": {
      "image/png": "[encoded data removed]",
      "text/plain": [
       "<Figure size 640x480 with 1 Axes>"
      ]
     },
     "metadata": {},
     "output_type": "display_data"
    },
    {
     "data": {
      "image/png": "[encoded data removed]",
      "text/plain": [
       "<Figure size 640x480 with 1 Axes>"
      ]
     },
     "metadata": {},
     "output_type": "display_data"
    }
   ],
   "source": [
    "# Model Performance Charts\n",
    "\n",
    "import matplotlib.pyplot as plt\n",
    "\n",
    "plt.plot(cnn_model_history.history['acc'])\n",
    "plt.plot(cnn_model_history.history['val_acc'])\n",
    "\n",
    "plt.title('model accuracy')\n",
    "plt.ylabel('accuracy')\n",
    "plt.xlabel('epoch')\n",
    "plt.legend(['train','test'], loc = 'upper left')\n",
    "plt.show()\n",
    "\n",
    "plt.plot(cnn_model_history.history['loss'])\n",
    "plt.plot(cnn_model_history.history['val_loss'])\n",
    "\n",
    "plt.title('model loss')\n",
    "plt.ylabel('loss')\n",
    "plt.xlabel('epoch')\n",
    "plt.legend(['train','test'], loc = 'upper left')\n",
    "plt.show()"
   ]
  },
  {
   "cell_type": "markdown",
   "id": "00d5cc8e",
   "metadata": {},
   "source": [
    "5.3 Recurrent Neural Network (LSTM)"
   ]
  },
  {
   "cell_type": "code",
   "execution_count": 30,
   "id": "28f7dee6",
   "metadata": {},
   "outputs": [
    {
     "name": "stdout",
     "output_type": "stream",
     "text": [
      "Model: \"sequential_3\"\n",
      "_________________________________________________________________\n",
      " Layer (type)                Output Shape              Param #   \n",
      "=================================================================\n",
      " embedding_3 (Embedding)     (None, 100, 100)          9239400   \n",
      "                                                                 \n",
      " lstm (LSTM)                 (None, 128)               117248    \n",
      "                                                                 \n",
      " dense_5 (Dense)             (None, 1)                 129       \n",
      "                                                                 \n",
      "=================================================================\n",
      "Total params: 9,356,777\n",
      "Trainable params: 117,377\n",
      "Non-trainable params: 9,239,400\n",
      "_________________________________________________________________\n",
      "None\n",
      "Epoch 1/6\n",
      "250/250 [==============================] - 94s 354ms/step - loss: 0.5009 - acc: 0.7551 - val_loss: 0.4221 - val_acc: 0.8106\n",
      "Epoch 2/6\n",
      "250/250 [==============================] - 81s 325ms/step - loss: 0.4076 - acc: 0.8188 - val_loss: 0.3876 - val_acc: 0.8345\n",
      "Epoch 3/6\n",
      "250/250 [==============================] - 88s 350ms/step - loss: 0.3740 - acc: 0.8402 - val_loss: 0.3640 - val_acc: 0.8521\n",
      "Epoch 4/6\n",
      "250/250 [==============================] - 88s 351ms/step - loss: 0.3415 - acc: 0.8567 - val_loss: 0.3300 - val_acc: 0.8615\n",
      "Epoch 5/6\n",
      "250/250 [==============================] - 95s 380ms/step - loss: 0.3270 - acc: 0.8621 - val_loss: 0.3227 - val_acc: 0.8583\n",
      "Epoch 6/6\n",
      "250/250 [==============================] - 88s 351ms/step - loss: 0.3056 - acc: 0.8747 - val_loss: 0.3301 - val_acc: 0.8571\n"
     ]
    }
   ],
   "source": [
    "# Recurrent Neural Network architecture\n",
    "\n",
    "from keras import regularizers\n",
    "from keras.optimizers import Adam\n",
    "from keras.callbacks import EarlyStopping\n",
    "from keras.layers import LSTM\n",
    "\n",
    "lstm_model = Sequential()\n",
    "\n",
    "embedding_layer = Embedding(vocab_length, 100, weights=[embedding_matrix], input_length=maxlen, trainable=False)\n",
    "lstm_model.add(embedding_layer)\n",
    "\n",
    "lstm_model.add(LSTM(128))\n",
    "\n",
    "lstm_model.add(Dense(1, activation='sigmoid'))\n",
    "\n",
    "lstm_model.compile(optimizer=Adam(lr=0.001), loss='binary_crossentropy', metrics=['acc'])\n",
    "\n",
    "print(lstm_model.summary())\n",
    "\n",
    "lstm_model_history = lstm_model.fit(X_train, y_train, batch_size=128, epochs=6, verbose=1, validation_split=0.2)\n"
   ]
  },
  {
   "cell_type": "code",
   "execution_count": 32,
   "id": "208cafe3",
   "metadata": {},
   "outputs": [
    {
     "name": "stdout",
     "output_type": "stream",
     "text": [
      "313/313 [==============================] - 19s 61ms/step - loss: 0.3331 - acc: 0.8544\n"
     ]
    }
   ],
   "source": [
    "# Predictions on the Test Set\n",
    "\n",
    "score = lstm_model.evaluate(X_test, y_test, verbose=1)"
   ]
  },
  {
   "cell_type": "code",
   "execution_count": 33,
   "id": "f34d817f",
   "metadata": {},
   "outputs": [
    {
     "name": "stdout",
     "output_type": "stream",
     "text": [
      "Test Score: 0.33307787775993347\n",
      "Test Accuracy: 0.8543999791145325\n"
     ]
    }
   ],
   "source": [
    "# Model Performance\n",
    "\n",
    "print(\"Test Score:\", score[0])\n",
    "print(\"Test Accuracy:\", score[1])"
   ]
  },
  {
   "cell_type": "code",
   "execution_count": 35,
   "id": "d3573c0c",
   "metadata": {},
   "outputs": [
    {
     "data": {
      "image/png": "[encoded data removed]",
      "text/plain": [
       "<Figure size 640x480 with 1 Axes>"
      ]
     },
     "metadata": {},
     "output_type": "display_data"
    },
    {
     "data": {
      "image/png": "[encoded data removed]",
      "text/plain": [
       "<Figure size 640x480 with 1 Axes>"
      ]
     },
     "metadata": {},
     "output_type": "display_data"
    }
   ],
   "source": [
    "# Model Performance Charts\n",
    "\n",
    "import matplotlib.pyplot as plt\n",
    "\n",
    "plt.plot(lstm_model_history.history['acc'])\n",
    "plt.plot(lstm_model_history.history['val_acc'])\n",
    "\n",
    "plt.title('model accuracy')\n",
    "plt.ylabel('accuracy')\n",
    "plt.xlabel('epoch')\n",
    "plt.legend(['train','test'], loc='upper left')\n",
    "plt.show()\n",
    "\n",
    "plt.plot(lstm_model_history.history['loss'])\n",
    "plt.plot(lstm_model_history.history['val_loss'])\n",
    "\n",
    "plt.title('model loss')\n",
    "plt.ylabel('loss')\n",
    "plt.xlabel('epoch')\n",
    "plt.legend(['train','test'], loc='upper left')\n",
    "plt.show()"
   ]
  },
  {
   "cell_type": "code",
   "execution_count": 36,
   "id": "c1326c0e",
   "metadata": {},
   "outputs": [],
   "source": [
    "# Saving the model as a h5 file for possible use later\n",
    "\n",
    "lstm_model.save(f\"./c1_Lstm_model_acc_{round(score[1], 3)}.h5\", save_format='h5')"
   ]
  },
  {
   "cell_type": "markdown",
   "id": "1f0ae5eb",
   "metadata": {},
   "source": [
    "The h5 format indicates that the model is being saved using the HDF5 file format, which is a popular format for storing large numerical datasets. The saved model can later be loaded and used for predictions or further training"
   ]
  },
  {
   "cell_type": "code",
   "execution_count": 37,
   "id": "fc9cfa47",
   "metadata": {},
   "outputs": [
    {
     "data": {
      "text/html": [
       "<div>\n",
       "<style scoped>\n",
       "    .dataframe tbody tr th:only-of-type {\n",
       "        vertical-align: middle;\n",
       "    }\n",
       "\n",
       "    .dataframe tbody tr th {\n",
       "        vertical-align: top;\n",
       "    }\n",
       "\n",
       "    .dataframe thead th {\n",
       "        text-align: right;\n",
       "    }\n",
       "</style>\n",
       "<table border=\"1\" class=\"dataframe\">\n",
       "  <thead>\n",
       "    <tr style=\"text-align: right;\">\n",
       "      <th></th>\n",
       "      <th>Unnamed: 0</th>\n",
       "      <th>Movie</th>\n",
       "      <th>Review Text</th>\n",
       "      <th>IMDb Rating</th>\n",
       "    </tr>\n",
       "  </thead>\n",
       "  <tbody>\n",
       "    <tr>\n",
       "      <th>0</th>\n",
       "      <td>0</td>\n",
       "      <td>Ex Machina</td>\n",
       "      <td>Intelligent Movie.\\nThis movie is obviously al...</td>\n",
       "      <td>9</td>\n",
       "    </tr>\n",
       "    <tr>\n",
       "      <th>1</th>\n",
       "      <td>1</td>\n",
       "      <td>Ex Machina</td>\n",
       "      <td>Extraordinary and thought-provoking.\\n'Ex mach...</td>\n",
       "      <td>10</td>\n",
       "    </tr>\n",
       "    <tr>\n",
       "      <th>2</th>\n",
       "      <td>2</td>\n",
       "      <td>Ex Machina</td>\n",
       "      <td>Poor story, only reasonable otherwise.\\nIf I h...</td>\n",
       "      <td>3</td>\n",
       "    </tr>\n",
       "    <tr>\n",
       "      <th>3</th>\n",
       "      <td>3</td>\n",
       "      <td>Ex Machina</td>\n",
       "      <td>Had Great Potential.\\nThis movie is one of the...</td>\n",
       "      <td>1</td>\n",
       "    </tr>\n",
       "    <tr>\n",
       "      <th>4</th>\n",
       "      <td>4</td>\n",
       "      <td>Eternals</td>\n",
       "      <td>Amazing visuals and philosophical concepts!\\n\\...</td>\n",
       "      <td>10</td>\n",
       "    </tr>\n",
       "    <tr>\n",
       "      <th>5</th>\n",
       "      <td>5</td>\n",
       "      <td>Eternals</td>\n",
       "      <td>Worst MCU film ever\\n\\nFollowing the events of...</td>\n",
       "      <td>3</td>\n",
       "    </tr>\n",
       "  </tbody>\n",
       "</table>\n",
       "</div>"
      ],
      "text/plain": [
       "   Unnamed: 0       Movie                                        Review Text  \\\n",
       "0           0  Ex Machina  Intelligent Movie.\\nThis movie is obviously al...   \n",
       "1           1  Ex Machina  Extraordinary and thought-provoking.\\n'Ex mach...   \n",
       "2           2  Ex Machina  Poor story, only reasonable otherwise.\\nIf I h...   \n",
       "3           3  Ex Machina  Had Great Potential.\\nThis movie is one of the...   \n",
       "4           4    Eternals  Amazing visuals and philosophical concepts!\\n\\...   \n",
       "5           5    Eternals  Worst MCU film ever\\n\\nFollowing the events of...   \n",
       "\n",
       "   IMDb Rating  \n",
       "0            9  \n",
       "1           10  \n",
       "2            3  \n",
       "3            1  \n",
       "4           10  \n",
       "5            3  "
      ]
     },
     "execution_count": 37,
     "metadata": {},
     "output_type": "execute_result"
    }
   ],
   "source": [
    "# Load sample IMDb reviews csv, having ~6 movie reviews, along with their IMDb rating\n",
    "\n",
    "sample_reviews = pd.read_csv(\"IMDb_Unseen_Reviews.csv\")\n",
    "\n",
    "sample_reviews.head(6)"
   ]
  },
  {
   "cell_type": "code",
   "execution_count": 38,
   "id": "9d09dd2c",
   "metadata": {},
   "outputs": [],
   "source": [
    "# Preprocess review text with earlier defined preprocess_text function\n",
    "\n",
    "unseen_reviews = sample_reviews['Review Text']\n",
    "\n",
    "unseen_processed = []\n",
    "for review in unseen_reviews:\n",
    "  review = preprocess_text(review)\n",
    "  unseen_processed.append(review)"
   ]
  },
  {
   "cell_type": "code",
   "execution_count": 39,
   "id": "68101bc9",
   "metadata": {},
   "outputs": [],
   "source": [
    "# Tokenising instance with earlier trained tokeniser\n",
    "unseen_tokenized = word_tokenizer.texts_to_sequences(unseen_processed)\n",
    "\n",
    "# Pooling instance to have maxlength of 100 tokens\n",
    "unseen_padded = pad_sequences(unseen_tokenized, padding='post', maxlen=maxlen)"
   ]
  },
  {
   "cell_type": "code",
   "execution_count": 41,
   "id": "1bc34e85",
   "metadata": {},
   "outputs": [
    {
     "name": "stdout",
     "output_type": "stream",
     "text": [
      "1/1 [==============================] - 4s 4s/step\n"
     ]
    },
    {
     "data": {
      "text/plain": [
       "array([[0.763774  ],\n",
       "       [0.9789643 ],\n",
       "       [0.22715168],\n",
       "       [0.40613016],\n",
       "       [0.94862884],\n",
       "       [0.03733908]], dtype=float32)"
      ]
     },
     "execution_count": 41,
     "metadata": {},
     "output_type": "execute_result"
    }
   ],
   "source": [
    "# Passing tokenised instance to the LSTM model for predictions\n",
    "unseen_sentiments = lstm_model.predict(unseen_padded)\n",
    "\n",
    "unseen_sentiments"
   ]
  },
  {
   "cell_type": "code",
   "execution_count": 42,
   "id": "02aae642",
   "metadata": {},
   "outputs": [
    {
     "data": {
      "text/html": [
       "<div>\n",
       "<style scoped>\n",
       "    .dataframe tbody tr th:only-of-type {\n",
       "        vertical-align: middle;\n",
       "    }\n",
       "\n",
       "    .dataframe tbody tr th {\n",
       "        vertical-align: top;\n",
       "    }\n",
       "\n",
       "    .dataframe thead th {\n",
       "        text-align: right;\n",
       "    }\n",
       "</style>\n",
       "<table border=\"1\" class=\"dataframe\">\n",
       "  <thead>\n",
       "    <tr style=\"text-align: right;\">\n",
       "      <th></th>\n",
       "      <th>Movie</th>\n",
       "      <th>Review Text</th>\n",
       "      <th>IMDb Rating</th>\n",
       "      <th>Predicted Sentiments</th>\n",
       "    </tr>\n",
       "  </thead>\n",
       "  <tbody>\n",
       "    <tr>\n",
       "      <th>0</th>\n",
       "      <td>Ex Machina</td>\n",
       "      <td>Intelligent Movie.\\nThis movie is obviously al...</td>\n",
       "      <td>9</td>\n",
       "      <td>7.6</td>\n",
       "    </tr>\n",
       "    <tr>\n",
       "      <th>1</th>\n",
       "      <td>Ex Machina</td>\n",
       "      <td>Extraordinary and thought-provoking.\\n'Ex mach...</td>\n",
       "      <td>10</td>\n",
       "      <td>9.8</td>\n",
       "    </tr>\n",
       "    <tr>\n",
       "      <th>2</th>\n",
       "      <td>Ex Machina</td>\n",
       "      <td>Poor story, only reasonable otherwise.\\nIf I h...</td>\n",
       "      <td>3</td>\n",
       "      <td>2.3</td>\n",
       "    </tr>\n",
       "    <tr>\n",
       "      <th>3</th>\n",
       "      <td>Ex Machina</td>\n",
       "      <td>Had Great Potential.\\nThis movie is one of the...</td>\n",
       "      <td>1</td>\n",
       "      <td>4.1</td>\n",
       "    </tr>\n",
       "    <tr>\n",
       "      <th>4</th>\n",
       "      <td>Eternals</td>\n",
       "      <td>Amazing visuals and philosophical concepts!\\n\\...</td>\n",
       "      <td>10</td>\n",
       "      <td>9.5</td>\n",
       "    </tr>\n",
       "    <tr>\n",
       "      <th>5</th>\n",
       "      <td>Eternals</td>\n",
       "      <td>Worst MCU film ever\\n\\nFollowing the events of...</td>\n",
       "      <td>3</td>\n",
       "      <td>0.4</td>\n",
       "    </tr>\n",
       "  </tbody>\n",
       "</table>\n",
       "</div>"
      ],
      "text/plain": [
       "        Movie                                        Review Text  IMDb Rating  \\\n",
       "0  Ex Machina  Intelligent Movie.\\nThis movie is obviously al...            9   \n",
       "1  Ex Machina  Extraordinary and thought-provoking.\\n'Ex mach...           10   \n",
       "2  Ex Machina  Poor story, only reasonable otherwise.\\nIf I h...            3   \n",
       "3  Ex Machina  Had Great Potential.\\nThis movie is one of the...            1   \n",
       "4    Eternals  Amazing visuals and philosophical concepts!\\n\\...           10   \n",
       "5    Eternals  Worst MCU film ever\\n\\nFollowing the events of...            3   \n",
       "\n",
       "   Predicted Sentiments  \n",
       "0                   7.6  \n",
       "1                   9.8  \n",
       "2                   2.3  \n",
       "3                   4.1  \n",
       "4                   9.5  \n",
       "5                   0.4  "
      ]
     },
     "execution_count": 42,
     "metadata": {},
     "output_type": "execute_result"
    }
   ],
   "source": [
    "#Generating predictions for the sentiment of the unseen reviews using the LSTM model\n",
    "\n",
    "sample_reviews['Predicted Sentiments'] = np.round(unseen_sentiments*10,1)\n",
    "\n",
    "df_prediction_sentiments = pd.DataFrame(sample_reviews['Predicted Sentiments'], columns = ['Predicted Sentiments'])\n",
    "df_movie                 = pd.DataFrame(sample_reviews['Movie'], columns = ['Movie'])\n",
    "df_review_text           = pd.DataFrame(sample_reviews['Review Text'], columns = ['Review Text'])\n",
    "df_imdb_rating           = pd.DataFrame(sample_reviews['IMDb Rating'], columns = ['IMDb Rating'])\n",
    "\n",
    "\n",
    "dfx=pd.concat([df_movie, df_review_text, df_imdb_rating, df_prediction_sentiments], axis=1)\n",
    "\n",
    "dfx.to_csv(\"./c2_IMDb_Unseen_Predictions.csv\", sep=',', encoding='UTF-8')\n",
    "\n",
    "dfx.head(6)"
   ]
  },
  {
   "cell_type": "raw",
   "id": "e3ae2b2a",
   "metadata": {},
   "source": [
    "6.Conclusion"
   ]
  },
  {
   "cell_type": "markdown",
   "id": "6391d3d7",
   "metadata": {},
   "source": [
    "We can observe from the above prediction that LSTM model is performing well in predicting the sentiment of movie reviews with accuracy of 85% compared to simple neural network and convolutional neural network."
   ]
  }
 ],
 "metadata": {
  "kernelspec": {
   "display_name": "Python 3 (ipykernel)",
   "language": "python",
   "name": "python3"
  },
  "language_info": {
   "codemirror_mode": {
    "name": "ipython",
    "version": 3
   },
   "file_extension": ".py",
   "mimetype": "text/x-python",
   "name": "python",
   "nbconvert_exporter": "python",
   "pygments_lexer": "ipython3",
   "version": "3.9.13"
  }
 },
 "nbformat": 4,
 "nbformat_minor": 5
}
